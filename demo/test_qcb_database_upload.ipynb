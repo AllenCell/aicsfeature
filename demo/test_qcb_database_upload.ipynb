{
 "cells": [
  {
   "cell_type": "code",
   "execution_count": 1,
   "metadata": {
    "collapsed": true
   },
   "outputs": [],
   "source": [
    "from aicsimage import io, processing"
   ]
  },
  {
   "cell_type": "code",
   "execution_count": 2,
   "metadata": {
    "collapsed": true
   },
   "outputs": [],
   "source": [
    "import datasetdatabase as dsdb\n",
    "mngr = dsdb.ConnectionManager(user=\"jianxuc\")"
   ]
  },
  {
   "cell_type": "code",
   "execution_count": 3,
   "metadata": {
    "collapsed": true
   },
   "outputs": [],
   "source": [
    "mngr.add_connections(\"prod_config.json\")"
   ]
  },
  {
   "cell_type": "code",
   "execution_count": 4,
   "metadata": {
    "collapsed": true
   },
   "outputs": [],
   "source": [
    "prod = mngr.connect(\"prod\")"
   ]
  },
  {
   "cell_type": "code",
   "execution_count": 2,
   "metadata": {
    "collapsed": true
   },
   "outputs": [],
   "source": [
    "# Create and connect to a local database\n",
    "mngr.add_connections(dsdb.LOCAL)"
   ]
  },
  {
   "cell_type": "code",
   "execution_count": 3,
   "metadata": {
    "collapsed": true
   },
   "outputs": [],
   "source": [
    "local = mngr.connect(dsdb.LOCAL)"
   ]
  },
  {
   "cell_type": "code",
   "execution_count": 5,
   "metadata": {
    "collapsed": true
   },
   "outputs": [],
   "source": [
    "# Upload the cell_database_meta.csv\n",
    "import pandas as pd\n",
    "meta = pd.read_csv(\"cell_database_meta.csv\")"
   ]
  },
  {
   "cell_type": "code",
   "execution_count": 5,
   "metadata": {},
   "outputs": [
    {
     "data": {
      "text/html": [
       "<div>\n",
       "<style>\n",
       "    .dataframe thead tr:only-child th {\n",
       "        text-align: right;\n",
       "    }\n",
       "\n",
       "    .dataframe thead th {\n",
       "        text-align: left;\n",
       "    }\n",
       "\n",
       "    .dataframe tbody tr th {\n",
       "        vertical-align: top;\n",
       "    }\n",
       "</style>\n",
       "<table border=\"1\" class=\"dataframe\">\n",
       "  <thead>\n",
       "    <tr style=\"text-align: right;\">\n",
       "      <th></th>\n",
       "      <th>cell_id</th>\n",
       "      <th>structure_name</th>\n",
       "      <th>mitosis</th>\n",
       "      <th>mode</th>\n",
       "      <th>original_path</th>\n",
       "      <th>roi</th>\n",
       "      <th>cell_ver</th>\n",
       "      <th>str_ver</th>\n",
       "      <th>src_csv</th>\n",
       "      <th>src_csv_row</th>\n",
       "      <th>crop_raw_path</th>\n",
       "      <th>crop_seg_path</th>\n",
       "    </tr>\n",
       "  </thead>\n",
       "  <tbody>\n",
       "    <tr>\n",
       "      <th>0</th>\n",
       "      <td>dc9200ec-0d83-49c8-9c69-97996a4f248b</td>\n",
       "      <td>DSP</td>\n",
       "      <td>6.1</td>\n",
       "      <td>n</td>\n",
       "      <td>//allen/aics/assay-dev/MicroscopyData/Sue/2016...</td>\n",
       "      <td>[16, 127, 45, 214, 225, 408]</td>\n",
       "      <td>0.1.0</td>\n",
       "      <td>0.1.0</td>\n",
       "      <td>//allen/aics/assay-dev/Analysis/QCB/analysis_s...</td>\n",
       "      <td>1</td>\n",
       "      <td>//allen/aics/assay-dev/Analysis/QCB_database/c...</td>\n",
       "      <td>//allen/aics/assay-dev/Analysis/QCB_database/c...</td>\n",
       "    </tr>\n",
       "    <tr>\n",
       "      <th>1</th>\n",
       "      <td>6daaa598-28fb-431e-b19e-339b5cdcbb6d</td>\n",
       "      <td>FBL</td>\n",
       "      <td>6.1</td>\n",
       "      <td>n</td>\n",
       "      <td>//allen/aics/assay-dev/MicroscopyData/Irina/20...</td>\n",
       "      <td>[14, 114, 386, 580, 361, 571]</td>\n",
       "      <td>0.1.0</td>\n",
       "      <td>0.1.0</td>\n",
       "      <td>//allen/aics/assay-dev/Analysis/QCB/analysis_s...</td>\n",
       "      <td>1</td>\n",
       "      <td>//allen/aics/assay-dev/Analysis/QCB_database/c...</td>\n",
       "      <td>//allen/aics/assay-dev/Analysis/QCB_database/c...</td>\n",
       "    </tr>\n",
       "    <tr>\n",
       "      <th>2</th>\n",
       "      <td>6ea8d819-742f-4ab8-b42d-b00b8f0150ca</td>\n",
       "      <td>TUBA</td>\n",
       "      <td>6.1</td>\n",
       "      <td>a</td>\n",
       "      <td>//allen/aics/assay-dev/MicroscopyData/Caroline...</td>\n",
       "      <td>[5, 123, 257, 425, 59, 246]</td>\n",
       "      <td>0.1.0</td>\n",
       "      <td>0.1.0</td>\n",
       "      <td>//allen/aics/assay-dev/Analysis/QCB/analysis_s...</td>\n",
       "      <td>1</td>\n",
       "      <td>//allen/aics/assay-dev/Analysis/QCB_database/c...</td>\n",
       "      <td>//allen/aics/assay-dev/Analysis/QCB_database/c...</td>\n",
       "    </tr>\n",
       "    <tr>\n",
       "      <th>3</th>\n",
       "      <td>a0a97b5f-61f6-49f6-89f6-898907911e80</td>\n",
       "      <td>CENT</td>\n",
       "      <td>6.1</td>\n",
       "      <td>n</td>\n",
       "      <td>//allen/aics/assay-dev/MicroscopyData/Irina/20...</td>\n",
       "      <td>[16, 115, 2, 175, 315, 488]</td>\n",
       "      <td>0.1.0</td>\n",
       "      <td>0.1.0</td>\n",
       "      <td>//allen/aics/assay-dev/Analysis/QCB/analysis_s...</td>\n",
       "      <td>1</td>\n",
       "      <td>//allen/aics/assay-dev/Analysis/QCB_database/c...</td>\n",
       "      <td>//allen/aics/assay-dev/Analysis/QCB_database/c...</td>\n",
       "    </tr>\n",
       "    <tr>\n",
       "      <th>4</th>\n",
       "      <td>b68f682d-6f65-40b6-9e31-b9f2e1fecff9</td>\n",
       "      <td>FBL</td>\n",
       "      <td>7.1</td>\n",
       "      <td>c</td>\n",
       "      <td>//allen/aics/assay-dev/MicroscopyData/Caroline...</td>\n",
       "      <td>[51, 190, 0, 179, 261, 434]</td>\n",
       "      <td>0.1.0</td>\n",
       "      <td>0.1.0</td>\n",
       "      <td>//allen/aics/assay-dev/Analysis/QCB/analysis_s...</td>\n",
       "      <td>1</td>\n",
       "      <td>//allen/aics/assay-dev/Analysis/QCB_database/c...</td>\n",
       "      <td>//allen/aics/assay-dev/Analysis/QCB_database/c...</td>\n",
       "    </tr>\n",
       "    <tr>\n",
       "      <th>5</th>\n",
       "      <td>095ad1fc-ca2b-4a3e-a4b9-a4c67cc89f6e</td>\n",
       "      <td>ZO1</td>\n",
       "      <td>7.1</td>\n",
       "      <td>n</td>\n",
       "      <td>//allen/aics/assay-dev/MicroscopyData/Caroline...</td>\n",
       "      <td>[0, 138, 333, 492, 451, 616]</td>\n",
       "      <td>0.1.0</td>\n",
       "      <td>0.1.0</td>\n",
       "      <td>//allen/aics/assay-dev/Analysis/QCB/analysis_s...</td>\n",
       "      <td>1</td>\n",
       "      <td>//allen/aics/assay-dev/Analysis/QCB_database/c...</td>\n",
       "      <td>//allen/aics/assay-dev/Analysis/QCB_database/c...</td>\n",
       "    </tr>\n",
       "    <tr>\n",
       "      <th>6</th>\n",
       "      <td>d5422f67-a01d-4d3e-b938-91ffaee3f29c</td>\n",
       "      <td>ZO1</td>\n",
       "      <td>7.1</td>\n",
       "      <td>n</td>\n",
       "      <td>//allen/aics/assay-dev/MicroscopyData/Caroline...</td>\n",
       "      <td>[0, 146, 180, 355, 462, 616]</td>\n",
       "      <td>0.1.0</td>\n",
       "      <td>0.1.0</td>\n",
       "      <td>//allen/aics/assay-dev/Analysis/QCB/analysis_s...</td>\n",
       "      <td>2</td>\n",
       "      <td>//allen/aics/assay-dev/Analysis/QCB_database/c...</td>\n",
       "      <td>//allen/aics/assay-dev/Analysis/QCB_database/c...</td>\n",
       "    </tr>\n",
       "  </tbody>\n",
       "</table>\n",
       "</div>"
      ],
      "text/plain": [
       "                                cell_id structure_name  mitosis mode  \\\n",
       "0  dc9200ec-0d83-49c8-9c69-97996a4f248b            DSP      6.1    n   \n",
       "1  6daaa598-28fb-431e-b19e-339b5cdcbb6d            FBL      6.1    n   \n",
       "2  6ea8d819-742f-4ab8-b42d-b00b8f0150ca           TUBA      6.1    a   \n",
       "3  a0a97b5f-61f6-49f6-89f6-898907911e80           CENT      6.1    n   \n",
       "4  b68f682d-6f65-40b6-9e31-b9f2e1fecff9            FBL      7.1    c   \n",
       "5  095ad1fc-ca2b-4a3e-a4b9-a4c67cc89f6e            ZO1      7.1    n   \n",
       "6  d5422f67-a01d-4d3e-b938-91ffaee3f29c            ZO1      7.1    n   \n",
       "\n",
       "                                       original_path  \\\n",
       "0  //allen/aics/assay-dev/MicroscopyData/Sue/2016...   \n",
       "1  //allen/aics/assay-dev/MicroscopyData/Irina/20...   \n",
       "2  //allen/aics/assay-dev/MicroscopyData/Caroline...   \n",
       "3  //allen/aics/assay-dev/MicroscopyData/Irina/20...   \n",
       "4  //allen/aics/assay-dev/MicroscopyData/Caroline...   \n",
       "5  //allen/aics/assay-dev/MicroscopyData/Caroline...   \n",
       "6  //allen/aics/assay-dev/MicroscopyData/Caroline...   \n",
       "\n",
       "                             roi cell_ver str_ver  \\\n",
       "0   [16, 127, 45, 214, 225, 408]    0.1.0   0.1.0   \n",
       "1  [14, 114, 386, 580, 361, 571]    0.1.0   0.1.0   \n",
       "2    [5, 123, 257, 425, 59, 246]    0.1.0   0.1.0   \n",
       "3    [16, 115, 2, 175, 315, 488]    0.1.0   0.1.0   \n",
       "4    [51, 190, 0, 179, 261, 434]    0.1.0   0.1.0   \n",
       "5   [0, 138, 333, 492, 451, 616]    0.1.0   0.1.0   \n",
       "6   [0, 146, 180, 355, 462, 616]    0.1.0   0.1.0   \n",
       "\n",
       "                                             src_csv  src_csv_row  \\\n",
       "0  //allen/aics/assay-dev/Analysis/QCB/analysis_s...            1   \n",
       "1  //allen/aics/assay-dev/Analysis/QCB/analysis_s...            1   \n",
       "2  //allen/aics/assay-dev/Analysis/QCB/analysis_s...            1   \n",
       "3  //allen/aics/assay-dev/Analysis/QCB/analysis_s...            1   \n",
       "4  //allen/aics/assay-dev/Analysis/QCB/analysis_s...            1   \n",
       "5  //allen/aics/assay-dev/Analysis/QCB/analysis_s...            1   \n",
       "6  //allen/aics/assay-dev/Analysis/QCB/analysis_s...            2   \n",
       "\n",
       "                                       crop_raw_path  \\\n",
       "0  //allen/aics/assay-dev/Analysis/QCB_database/c...   \n",
       "1  //allen/aics/assay-dev/Analysis/QCB_database/c...   \n",
       "2  //allen/aics/assay-dev/Analysis/QCB_database/c...   \n",
       "3  //allen/aics/assay-dev/Analysis/QCB_database/c...   \n",
       "4  //allen/aics/assay-dev/Analysis/QCB_database/c...   \n",
       "5  //allen/aics/assay-dev/Analysis/QCB_database/c...   \n",
       "6  //allen/aics/assay-dev/Analysis/QCB_database/c...   \n",
       "\n",
       "                                       crop_seg_path  \n",
       "0  //allen/aics/assay-dev/Analysis/QCB_database/c...  \n",
       "1  //allen/aics/assay-dev/Analysis/QCB_database/c...  \n",
       "2  //allen/aics/assay-dev/Analysis/QCB_database/c...  \n",
       "3  //allen/aics/assay-dev/Analysis/QCB_database/c...  \n",
       "4  //allen/aics/assay-dev/Analysis/QCB_database/c...  \n",
       "5  //allen/aics/assay-dev/Analysis/QCB_database/c...  \n",
       "6  //allen/aics/assay-dev/Analysis/QCB_database/c...  "
      ]
     },
     "execution_count": 5,
     "metadata": {},
     "output_type": "execute_result"
    }
   ],
   "source": [
    "meta"
   ]
  },
  {
   "cell_type": "code",
   "execution_count": 6,
   "metadata": {},
   "outputs": [
    {
     "name": "stdout",
     "output_type": "stream",
     "text": [
      "Validating Dataset...\n",
      "[============================================================] 100.0% (336/336) ~ 0:00:00 remaining\n",
      "Creating Iota...\n",
      "[============================================================] 100.0% (84/84) ~ 0:00:00 remaining\n",
      "Creating Junction Items...\n",
      "[============================================================] 100.0% (84/84) ~ 0:00:00 remaining\n",
      "Dataset upload complete!\n"
     ]
    },
    {
     "data": {
      "text/plain": [
       "{'Created': datetime.datetime(2018, 9, 5, 15, 23, 45, 997159),\n",
       " 'DatasetId': 7,\n",
       " 'Description': 'meta table for testing QCB database',\n",
       " 'FilepathColumns': 'None',\n",
       " 'Name': 'test_meta_features_QCB',\n",
       " 'SourceId': 15}"
      ]
     },
     "execution_count": 6,
     "metadata": {},
     "output_type": "execute_result"
    }
   ],
   "source": [
    "prod.upload_dataset(meta, name=\"test_meta_features_QCB\", description=\"meta table for testing QCB database\", \n",
    "                     type_map={\"mitosis\": float},\n",
    "                     value_validation_map={\"mitosis\": lambda x: 0 <= x and x < 8})"
   ]
  },
  {
   "cell_type": "code",
   "execution_count": 7,
   "metadata": {},
   "outputs": [],
   "source": [
    "df = pd.DataFrame(prod.get_dataset(7))"
   ]
  },
  {
   "cell_type": "code",
   "execution_count": 8,
   "metadata": {},
   "outputs": [],
   "source": [
    "fn = df['crop_seg_path'].iloc[0]"
   ]
  },
  {
   "cell_type": "code",
   "execution_count": 9,
   "metadata": {},
   "outputs": [
    {
     "data": {
      "text/plain": [
       "'//allen/aics/assay-dev/Analysis/QCB_database/cell_info/dc9200ec-0d83-49c8-9c69-97996a4f248b/seg.ome.tif'"
      ]
     },
     "execution_count": 9,
     "metadata": {},
     "output_type": "execute_result"
    }
   ],
   "source": [
    "fn"
   ]
  },
  {
   "cell_type": "code",
   "execution_count": 10,
   "metadata": {},
   "outputs": [],
   "source": [
    "reader = processing.AICSImage(fn)\n",
    "im = reader.data"
   ]
  },
  {
   "cell_type": "code",
   "execution_count": 11,
   "metadata": {},
   "outputs": [],
   "source": [
    "dna_mem_feat = pd.read_csv(\"./features/NucCell_features.csv\")"
   ]
  },
  {
   "cell_type": "code",
   "execution_count": 12,
   "metadata": {
    "collapsed": true
   },
   "outputs": [],
   "source": [
    "fbl_feat = pd.read_csv(\"./features/FBL_features.csv\")"
   ]
  },
  {
   "cell_type": "code",
   "execution_count": 13,
   "metadata": {},
   "outputs": [
    {
     "name": "stdout",
     "output_type": "stream",
     "text": [
      "Validating Dataset...\n",
      "[============================================================] 100.0% (84/84) ~ 0:00:00 remaining\n",
      "Creating Iota...\n",
      "[============================================================] 100.0% (21/21) ~ 0:00:00 remaining\n",
      "Creating Junction Items...\n",
      "[============================================================] 100.0% (21/21) ~ 0:00:00 remaining\n",
      "Dataset upload complete!\n"
     ]
    },
    {
     "data": {
      "text/plain": [
       "{'Created': datetime.datetime(2018, 9, 5, 15, 24, 54, 329096),\n",
       " 'DatasetId': 8,\n",
       " 'Description': None,\n",
       " 'FilepathColumns': 'None',\n",
       " 'Name': 'hash_d412490226382646b293001b494cb113',\n",
       " 'SourceId': 16}"
      ]
     },
     "execution_count": 13,
     "metadata": {},
     "output_type": "execute_result"
    }
   ],
   "source": [
    "prod.upload_dataset(dna_mem_feat)"
   ]
  },
  {
   "cell_type": "code",
   "execution_count": 14,
   "metadata": {},
   "outputs": [
    {
     "name": "stdout",
     "output_type": "stream",
     "text": [
      "Validating Dataset...\n",
      "[============================================================] 100.0% (24/24) ~ 0:00:00 remaining\n",
      "Creating Iota...\n",
      "[============================================================] 100.0% (6/6) ~ 0:00:00 remaining\n",
      "Creating Junction Items...\n",
      "[============================================================] 100.0% (6/6) ~ 0:00:00 remaining\n",
      "Dataset upload complete!\n"
     ]
    },
    {
     "data": {
      "text/plain": [
       "{'Created': datetime.datetime(2018, 9, 5, 15, 25, 3, 766300),\n",
       " 'DatasetId': 9,\n",
       " 'Description': None,\n",
       " 'FilepathColumns': 'None',\n",
       " 'Name': 'hash_897b407d61b01a7c7cf6b7af22812488',\n",
       " 'SourceId': 17}"
      ]
     },
     "execution_count": 14,
     "metadata": {},
     "output_type": "execute_result"
    }
   ],
   "source": [
    "prod.upload_dataset(fbl_feat)"
   ]
  },
  {
   "cell_type": "code",
   "execution_count": 15,
   "metadata": {},
   "outputs": [],
   "source": [
    "df_cell = pd.DataFrame(prod.get_dataset(8))"
   ]
  },
  {
   "cell_type": "code",
   "execution_count": 17,
   "metadata": {},
   "outputs": [],
   "source": [
    "df_fbl = pd.DataFrame(prod.get_dataset(9))"
   ]
  },
  {
   "cell_type": "code",
   "execution_count": null,
   "metadata": {
    "collapsed": true
   },
   "outputs": [],
   "source": []
  }
 ],
 "metadata": {
  "kernelspec": {
   "display_name": "Python 3",
   "language": "python",
   "name": "python3"
  },
  "language_info": {
   "codemirror_mode": {
    "name": "ipython",
    "version": 3
   },
   "file_extension": ".py",
   "mimetype": "text/x-python",
   "name": "python",
   "nbconvert_exporter": "python",
   "pygments_lexer": "ipython3",
   "version": "3.6.1"
  }
 },
 "nbformat": 4,
 "nbformat_minor": 2
}
