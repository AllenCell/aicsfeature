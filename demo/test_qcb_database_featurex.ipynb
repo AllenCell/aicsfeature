{
 "cells": [
  {
   "cell_type": "code",
   "execution_count": 1,
   "metadata": {},
   "outputs": [],
   "source": [
    "import os\n",
    "import numpy as np\n",
    "import pandas as pd\n",
    "from skimage import io as skio\n",
    "import datasetdatabase as dsdb\n",
    "from aicsfeature.extractor import dna\n",
    "from aicsimage import io, processing\n",
    "\n",
    "# Multiprocessing\n",
    "\n",
    "os.environ[\"DSDB_PROCESS_LIMIT\"] = \"16\""
   ]
  },
  {
   "cell_type": "markdown",
   "metadata": {},
   "source": [
    "### Load metadata"
   ]
  },
  {
   "cell_type": "code",
   "execution_count": 3,
   "metadata": {},
   "outputs": [
    {
     "name": "stdout",
     "output_type": "stream",
     "text": [
      "Reconstructing dataset...\n",
      "[============================================================] 100.0% 10116/10116 ~ 0:0:0 remaining\n"
     ]
    }
   ],
   "source": [
    "prod = dsdb.DatasetDatabase(config='/allen/aics/assay-dev/Analysis/QCB_database/prod_config.json')\n",
    "ds_meta = prod.get_dataset(name='QCB_cell_meta')"
   ]
  },
  {
   "cell_type": "code",
   "execution_count": 4,
   "metadata": {},
   "outputs": [
    {
     "data": {
      "text/html": [
       "<div>\n",
       "<style scoped>\n",
       "    .dataframe tbody tr th:only-of-type {\n",
       "        vertical-align: middle;\n",
       "    }\n",
       "\n",
       "    .dataframe tbody tr th {\n",
       "        vertical-align: top;\n",
       "    }\n",
       "\n",
       "    .dataframe thead th {\n",
       "        text-align: right;\n",
       "    }\n",
       "</style>\n",
       "<table border=\"1\" class=\"dataframe\">\n",
       "  <thead>\n",
       "    <tr style=\"text-align: right;\">\n",
       "      <th></th>\n",
       "      <th>cell_id</th>\n",
       "      <th>cell_ver</th>\n",
       "      <th>czi_filename</th>\n",
       "      <th>idx_in_stack</th>\n",
       "      <th>mitosis</th>\n",
       "      <th>mode</th>\n",
       "      <th>roi</th>\n",
       "      <th>src_csv</th>\n",
       "      <th>src_csv_row</th>\n",
       "      <th>str_ver</th>\n",
       "      <th>structure_name</th>\n",
       "    </tr>\n",
       "  </thead>\n",
       "  <tbody>\n",
       "    <tr>\n",
       "      <th>0</th>\n",
       "      <td>c17a53d0-7ff6-4106-ab53-d2be3240f168</td>\n",
       "      <td>0.1.0</td>\n",
       "      <td>20161209_C01_002.czi</td>\n",
       "      <td>3</td>\n",
       "      <td>0</td>\n",
       "      <td>n</td>\n",
       "      <td>[19, 195, 332, 513, 65, 295]</td>\n",
       "      <td>//allen/aics/assay-dev/StashSpreadsheets/assay...</td>\n",
       "      <td>7</td>\n",
       "      <td>0.1.0</td>\n",
       "      <td>FBL</td>\n",
       "    </tr>\n",
       "    <tr>\n",
       "      <th>1</th>\n",
       "      <td>77f11f0d-66d9-49c5-b2b8-be40777780ed</td>\n",
       "      <td>0.1.0</td>\n",
       "      <td>20161209_C01_002.czi</td>\n",
       "      <td>4</td>\n",
       "      <td>0</td>\n",
       "      <td>n</td>\n",
       "      <td>[19, 187, 264, 453, 226, 444]</td>\n",
       "      <td>//allen/aics/assay-dev/StashSpreadsheets/assay...</td>\n",
       "      <td>8</td>\n",
       "      <td>0.1.0</td>\n",
       "      <td>FBL</td>\n",
       "    </tr>\n",
       "    <tr>\n",
       "      <th>2</th>\n",
       "      <td>427284a7-02b2-440b-a1b0-28c0b8f12379</td>\n",
       "      <td>0.1.0</td>\n",
       "      <td>20161209_C01_002.czi</td>\n",
       "      <td>5</td>\n",
       "      <td>0</td>\n",
       "      <td>n</td>\n",
       "      <td>[19, 190, 73, 322, 422, 613]</td>\n",
       "      <td>//allen/aics/assay-dev/StashSpreadsheets/assay...</td>\n",
       "      <td>9</td>\n",
       "      <td>0.1.0</td>\n",
       "      <td>FBL</td>\n",
       "    </tr>\n",
       "    <tr>\n",
       "      <th>3</th>\n",
       "      <td>0241af5b-4133-4525-9d14-9a65f8a93f6f</td>\n",
       "      <td>0.1.0</td>\n",
       "      <td>20161209_C01_002.czi</td>\n",
       "      <td>7</td>\n",
       "      <td>0</td>\n",
       "      <td>n</td>\n",
       "      <td>[19, 195, 355, 594, 68, 397]</td>\n",
       "      <td>//allen/aics/assay-dev/StashSpreadsheets/assay...</td>\n",
       "      <td>11</td>\n",
       "      <td>0.1.0</td>\n",
       "      <td>FBL</td>\n",
       "    </tr>\n",
       "    <tr>\n",
       "      <th>4</th>\n",
       "      <td>a705b03f-7af4-4fba-9e8f-8b20b085a1ab</td>\n",
       "      <td>0.1.0</td>\n",
       "      <td>20161209_C01_003.czi</td>\n",
       "      <td>1</td>\n",
       "      <td>0</td>\n",
       "      <td>n</td>\n",
       "      <td>[8, 189, 78, 297, 228, 481]</td>\n",
       "      <td>//allen/aics/assay-dev/StashSpreadsheets/assay...</td>\n",
       "      <td>15</td>\n",
       "      <td>0.1.0</td>\n",
       "      <td>FBL</td>\n",
       "    </tr>\n",
       "  </tbody>\n",
       "</table>\n",
       "</div>"
      ],
      "text/plain": [
       "                                cell_id cell_ver          czi_filename  \\\n",
       "0  c17a53d0-7ff6-4106-ab53-d2be3240f168    0.1.0  20161209_C01_002.czi   \n",
       "1  77f11f0d-66d9-49c5-b2b8-be40777780ed    0.1.0  20161209_C01_002.czi   \n",
       "2  427284a7-02b2-440b-a1b0-28c0b8f12379    0.1.0  20161209_C01_002.czi   \n",
       "3  0241af5b-4133-4525-9d14-9a65f8a93f6f    0.1.0  20161209_C01_002.czi   \n",
       "4  a705b03f-7af4-4fba-9e8f-8b20b085a1ab    0.1.0  20161209_C01_003.czi   \n",
       "\n",
       "   idx_in_stack  mitosis mode                            roi  \\\n",
       "0             3        0    n   [19, 195, 332, 513, 65, 295]   \n",
       "1             4        0    n  [19, 187, 264, 453, 226, 444]   \n",
       "2             5        0    n   [19, 190, 73, 322, 422, 613]   \n",
       "3             7        0    n   [19, 195, 355, 594, 68, 397]   \n",
       "4             1        0    n    [8, 189, 78, 297, 228, 481]   \n",
       "\n",
       "                                             src_csv  src_csv_row str_ver  \\\n",
       "0  //allen/aics/assay-dev/StashSpreadsheets/assay...            7   0.1.0   \n",
       "1  //allen/aics/assay-dev/StashSpreadsheets/assay...            8   0.1.0   \n",
       "2  //allen/aics/assay-dev/StashSpreadsheets/assay...            9   0.1.0   \n",
       "3  //allen/aics/assay-dev/StashSpreadsheets/assay...           11   0.1.0   \n",
       "4  //allen/aics/assay-dev/StashSpreadsheets/assay...           15   0.1.0   \n",
       "\n",
       "  structure_name  \n",
       "0            FBL  \n",
       "1            FBL  \n",
       "2            FBL  \n",
       "3            FBL  \n",
       "4            FBL  "
      ]
     },
     "execution_count": 4,
     "metadata": {},
     "output_type": "execute_result"
    }
   ],
   "source": [
    "ds_meta.ds.head()"
   ]
  },
  {
   "cell_type": "code",
   "execution_count": 5,
   "metadata": {},
   "outputs": [],
   "source": [
    "df_meta = ds_meta.ds"
   ]
  },
  {
   "cell_type": "code",
   "execution_count": 6,
   "metadata": {},
   "outputs": [
    {
     "data": {
      "text/plain": [
       "Index(['cell_id', 'cell_ver', 'czi_filename', 'idx_in_stack', 'mitosis',\n",
       "       'mode', 'roi', 'src_csv', 'src_csv_row', 'str_ver', 'structure_name'],\n",
       "      dtype='object')"
      ]
     },
     "execution_count": 6,
     "metadata": {},
     "output_type": "execute_result"
    }
   ],
   "source": [
    "df_meta.columns"
   ]
  },
  {
   "cell_type": "markdown",
   "metadata": {},
   "source": [
    "### Calculating DNA properties for the first cell (cid = 0)"
   ]
  },
  {
   "cell_type": "code",
   "execution_count": 7,
   "metadata": {},
   "outputs": [],
   "source": [
    "rootf = '/allen/aics/assay-dev/Analysis/QCB_database/cell_info'"
   ]
  },
  {
   "cell_type": "code",
   "execution_count": 8,
   "metadata": {},
   "outputs": [],
   "source": [
    "cid = 0"
   ]
  },
  {
   "cell_type": "code",
   "execution_count": 9,
   "metadata": {},
   "outputs": [
    {
     "name": "stdout",
     "output_type": "stream",
     "text": [
      "/allen/aics/assay-dev/Analysis/QCB_database/cell_info/c17a53d0-7ff6-4106-ab53-d2be3240f168/seg.ome.tif\n"
     ]
    }
   ],
   "source": [
    "seg_path = os.path.join(rootf,df_meta.cell_id[cid],'seg.ome.tif')\n",
    "raw_path = os.path.join(rootf,df_meta.cell_id[cid],'raw.ome.tif')\n",
    "print(seg_path)"
   ]
  },
  {
   "cell_type": "code",
   "execution_count": 10,
   "metadata": {},
   "outputs": [
    {
     "name": "stdout",
     "output_type": "stream",
     "text": [
      "seg (5, 176, 181, 230) raw (3, 176, 181, 230)\n"
     ]
    }
   ],
   "source": [
    "SEG = skio.imread(seg_path)\n",
    "RAW = skio.imread(raw_path)\n",
    "print('seg',SEG.shape,'raw',RAW.shape)"
   ]
  },
  {
   "cell_type": "code",
   "execution_count": 11,
   "metadata": {},
   "outputs": [
    {
     "data": {
      "image/png": "[encoded data removed]",
      "text/plain": [
       "<Figure size 432x288 with 1 Axes>"
      ]
     },
     "metadata": {
      "needs_background": "light"
     },
     "output_type": "display_data"
    }
   ],
   "source": [
    "import matplotlib.pyplot as plt\n",
    "plt.imshow(RAW[0,70,:,:]*SEG[0,70,:,:]) # channels: 0-dna, 1-mem\n",
    "plt.show()"
   ]
  },
  {
   "cell_type": "code",
   "execution_count": 20,
   "metadata": {},
   "outputs": [],
   "source": [
    "tablef = dna.GetFeatures(None,seg=RAW[0,:,:,:]*SEG[0,:,:,:])"
   ]
  },
  {
   "cell_type": "code",
   "execution_count": 21,
   "metadata": {},
   "outputs": [
    {
     "data": {
      "text/html": [
       "<div>\n",
       "<style scoped>\n",
       "    .dataframe tbody tr th:only-of-type {\n",
       "        vertical-align: middle;\n",
       "    }\n",
       "\n",
       "    .dataframe tbody tr th {\n",
       "        vertical-align: top;\n",
       "    }\n",
       "\n",
       "    .dataframe thead th {\n",
       "        text-align: right;\n",
       "    }\n",
       "</style>\n",
       "<table border=\"1\" class=\"dataframe\">\n",
       "  <thead>\n",
       "    <tr style=\"text-align: right;\">\n",
       "      <th></th>\n",
       "      <th>dna_volume</th>\n",
       "      <th>dna_surface_area</th>\n",
       "      <th>dna_1st_axis_x</th>\n",
       "      <th>dna_1st_axis_y</th>\n",
       "      <th>dna_1st_axis_z</th>\n",
       "      <th>dna_2nd_axis_x</th>\n",
       "      <th>dna_2nd_axis_y</th>\n",
       "      <th>dna_2nd_axis_z</th>\n",
       "      <th>dna_3rd_axis_x</th>\n",
       "      <th>dna_3rd_axis_y</th>\n",
       "      <th>...</th>\n",
       "      <th>dna_haralick_variance</th>\n",
       "      <th>dna_haralick_inv_diff_moment</th>\n",
       "      <th>dna_haralick_sum_avg</th>\n",
       "      <th>dna_haralick_sum_var</th>\n",
       "      <th>dna_haralick_sum_entropy</th>\n",
       "      <th>dna_haralick_entropy</th>\n",
       "      <th>dna_haralick_diff_var</th>\n",
       "      <th>dna_haralick_diff_entropy</th>\n",
       "      <th>dna_haralick_info_corr1</th>\n",
       "      <th>dna_haralick_info_corr2</th>\n",
       "    </tr>\n",
       "  </thead>\n",
       "  <tbody>\n",
       "    <tr>\n",
       "      <th>0</th>\n",
       "      <td>431389</td>\n",
       "      <td>28756</td>\n",
       "      <td>0.60344</td>\n",
       "      <td>-0.698648</td>\n",
       "      <td>0.384383</td>\n",
       "      <td>0.018198</td>\n",
       "      <td>0.493981</td>\n",
       "      <td>0.869282</td>\n",
       "      <td>-0.797201</td>\n",
       "      <td>-0.517565</td>\n",
       "      <td>...</td>\n",
       "      <td>12.002209</td>\n",
       "      <td>0.293643</td>\n",
       "      <td>450.585358</td>\n",
       "      <td>33.458324</td>\n",
       "      <td>4.547036</td>\n",
       "      <td>7.396518</td>\n",
       "      <td>0.00057</td>\n",
       "      <td>3.045633</td>\n",
       "      <td>-0.046323</td>\n",
       "      <td>0.460142</td>\n",
       "    </tr>\n",
       "  </tbody>\n",
       "</table>\n",
       "<p>1 rows × 45 columns</p>\n",
       "</div>"
      ],
      "text/plain": [
       "   dna_volume  dna_surface_area  dna_1st_axis_x  dna_1st_axis_y  \\\n",
       "0      431389             28756         0.60344       -0.698648   \n",
       "\n",
       "   dna_1st_axis_z  dna_2nd_axis_x  dna_2nd_axis_y  dna_2nd_axis_z  \\\n",
       "0        0.384383        0.018198        0.493981        0.869282   \n",
       "\n",
       "   dna_3rd_axis_x  dna_3rd_axis_y           ...             \\\n",
       "0       -0.797201       -0.517565           ...              \n",
       "\n",
       "   dna_haralick_variance  dna_haralick_inv_diff_moment  dna_haralick_sum_avg  \\\n",
       "0              12.002209                      0.293643            450.585358   \n",
       "\n",
       "   dna_haralick_sum_var  dna_haralick_sum_entropy  dna_haralick_entropy  \\\n",
       "0             33.458324                  4.547036              7.396518   \n",
       "\n",
       "   dna_haralick_diff_var  dna_haralick_diff_entropy  dna_haralick_info_corr1  \\\n",
       "0                0.00057                   3.045633                -0.046323   \n",
       "\n",
       "   dna_haralick_info_corr2  \n",
       "0                 0.460142  \n",
       "\n",
       "[1 rows x 45 columns]"
      ]
     },
     "execution_count": 21,
     "metadata": {},
     "output_type": "execute_result"
    }
   ],
   "source": [
    "tablef.head()"
   ]
  },
  {
   "cell_type": "markdown",
   "metadata": {},
   "source": [
    "### Comparing with old features"
   ]
  },
  {
   "cell_type": "code",
   "execution_count": 18,
   "metadata": {},
   "outputs": [
    {
     "name": "stdout",
     "output_type": "stream",
     "text": [
      "Reconstructing dataset...\n",
      "[============================================================] 100.0% 10116/10116 ~ 0:0:0 remaining\n"
     ]
    }
   ],
   "source": [
    "ds_cell = prod.get_dataset(name='QCB_feature_old')"
   ]
  },
  {
   "cell_type": "code",
   "execution_count": 19,
   "metadata": {},
   "outputs": [
    {
     "data": {
      "text/html": [
       "<div>\n",
       "<style scoped>\n",
       "    .dataframe tbody tr th:only-of-type {\n",
       "        vertical-align: middle;\n",
       "    }\n",
       "\n",
       "    .dataframe tbody tr th {\n",
       "        vertical-align: top;\n",
       "    }\n",
       "\n",
       "    .dataframe thead th {\n",
       "        text-align: right;\n",
       "    }\n",
       "</style>\n",
       "<table border=\"1\" class=\"dataframe\">\n",
       "  <thead>\n",
       "    <tr style=\"text-align: right;\">\n",
       "      <th></th>\n",
       "      <th>cell_EquatorialEccentricity</th>\n",
       "      <th>cell_MeridionalEccentricity</th>\n",
       "      <th>cell_centroid_x</th>\n",
       "      <th>cell_centroid_x_norm</th>\n",
       "      <th>cell_centroid_y</th>\n",
       "      <th>cell_centroid_y_norm</th>\n",
       "      <th>cell_centroid_z</th>\n",
       "      <th>cell_centroid_z_norm</th>\n",
       "      <th>cell_first_axis_length</th>\n",
       "      <th>cell_first_axis_length_norm</th>\n",
       "      <th>...</th>\n",
       "      <th>struct_psize_mean</th>\n",
       "      <th>struct_psize_mean_roof</th>\n",
       "      <th>struct_psize_std</th>\n",
       "      <th>struct_psize_std_roof</th>\n",
       "      <th>struct_seg_vol</th>\n",
       "      <th>struct_seg_vol_roof</th>\n",
       "      <th>struct_surface_area</th>\n",
       "      <th>struct_surface_area_pixel</th>\n",
       "      <th>struct_surface_area_pixel_roof</th>\n",
       "      <th>struct_surface_area_roof</th>\n",
       "    </tr>\n",
       "  </thead>\n",
       "  <tbody>\n",
       "    <tr>\n",
       "      <th>0</th>\n",
       "      <td>0.954248</td>\n",
       "      <td>0.992144</td>\n",
       "      <td>410.196840</td>\n",
       "      <td>0.107601</td>\n",
       "      <td>200.282480</td>\n",
       "      <td>0.074716</td>\n",
       "      <td>99.909683</td>\n",
       "      <td>0.213683</td>\n",
       "      <td>267.127038</td>\n",
       "      <td>1.341748</td>\n",
       "      <td>...</td>\n",
       "      <td>34105.0</td>\n",
       "      <td>34105.0</td>\n",
       "      <td>0.000000</td>\n",
       "      <td>0.000000</td>\n",
       "      <td>34105.0</td>\n",
       "      <td>34105.0</td>\n",
       "      <td>15.864813</td>\n",
       "      <td>12594.0</td>\n",
       "      <td>12594.0</td>\n",
       "      <td>15.864813</td>\n",
       "    </tr>\n",
       "    <tr>\n",
       "      <th>1</th>\n",
       "      <td>0.919504</td>\n",
       "      <td>0.993980</td>\n",
       "      <td>358.856377</td>\n",
       "      <td>0.045385</td>\n",
       "      <td>337.198618</td>\n",
       "      <td>-0.002020</td>\n",
       "      <td>100.529134</td>\n",
       "      <td>0.091619</td>\n",
       "      <td>276.640338</td>\n",
       "      <td>1.426584</td>\n",
       "      <td>...</td>\n",
       "      <td>14025.5</td>\n",
       "      <td>14025.5</td>\n",
       "      <td>4545.989496</td>\n",
       "      <td>4545.989496</td>\n",
       "      <td>28051.0</td>\n",
       "      <td>28051.0</td>\n",
       "      <td>12.981332</td>\n",
       "      <td>10305.0</td>\n",
       "      <td>10305.0</td>\n",
       "      <td>12.981332</td>\n",
       "    </tr>\n",
       "    <tr>\n",
       "      <th>2</th>\n",
       "      <td>0.891845</td>\n",
       "      <td>0.942940</td>\n",
       "      <td>186.607216</td>\n",
       "      <td>0.122459</td>\n",
       "      <td>528.397690</td>\n",
       "      <td>0.013015</td>\n",
       "      <td>114.846968</td>\n",
       "      <td>0.097995</td>\n",
       "      <td>202.939604</td>\n",
       "      <td>1.587060</td>\n",
       "      <td>...</td>\n",
       "      <td>48642.0</td>\n",
       "      <td>48642.0</td>\n",
       "      <td>0.000000</td>\n",
       "      <td>0.000000</td>\n",
       "      <td>48642.0</td>\n",
       "      <td>48642.0</td>\n",
       "      <td>21.961819</td>\n",
       "      <td>17434.0</td>\n",
       "      <td>17434.0</td>\n",
       "      <td>21.961819</td>\n",
       "    </tr>\n",
       "    <tr>\n",
       "      <th>3</th>\n",
       "      <td>0.879992</td>\n",
       "      <td>0.989685</td>\n",
       "      <td>466.355636</td>\n",
       "      <td>-0.067556</td>\n",
       "      <td>262.586578</td>\n",
       "      <td>0.182389</td>\n",
       "      <td>133.596876</td>\n",
       "      <td>0.100411</td>\n",
       "      <td>330.426213</td>\n",
       "      <td>1.435130</td>\n",
       "      <td>...</td>\n",
       "      <td>51096.0</td>\n",
       "      <td>51096.0</td>\n",
       "      <td>0.000000</td>\n",
       "      <td>0.000000</td>\n",
       "      <td>51096.0</td>\n",
       "      <td>51096.0</td>\n",
       "      <td>22.376264</td>\n",
       "      <td>17763.0</td>\n",
       "      <td>17763.0</td>\n",
       "      <td>22.376264</td>\n",
       "    </tr>\n",
       "    <tr>\n",
       "      <th>4</th>\n",
       "      <td>0.953563</td>\n",
       "      <td>0.980214</td>\n",
       "      <td>185.472376</td>\n",
       "      <td>-0.041318</td>\n",
       "      <td>367.911661</td>\n",
       "      <td>-0.065170</td>\n",
       "      <td>83.981297</td>\n",
       "      <td>0.083976</td>\n",
       "      <td>307.129410</td>\n",
       "      <td>1.230440</td>\n",
       "      <td>...</td>\n",
       "      <td>24726.5</td>\n",
       "      <td>24726.5</td>\n",
       "      <td>29488.474100</td>\n",
       "      <td>29488.474100</td>\n",
       "      <td>49453.0</td>\n",
       "      <td>49453.0</td>\n",
       "      <td>20.496774</td>\n",
       "      <td>16271.0</td>\n",
       "      <td>16271.0</td>\n",
       "      <td>20.496774</td>\n",
       "    </tr>\n",
       "  </tbody>\n",
       "</table>\n",
       "<p>5 rows × 100 columns</p>\n",
       "</div>"
      ],
      "text/plain": [
       "   cell_EquatorialEccentricity  cell_MeridionalEccentricity  cell_centroid_x  \\\n",
       "0                     0.954248                     0.992144       410.196840   \n",
       "1                     0.919504                     0.993980       358.856377   \n",
       "2                     0.891845                     0.942940       186.607216   \n",
       "3                     0.879992                     0.989685       466.355636   \n",
       "4                     0.953563                     0.980214       185.472376   \n",
       "\n",
       "   cell_centroid_x_norm  cell_centroid_y  cell_centroid_y_norm  \\\n",
       "0              0.107601       200.282480              0.074716   \n",
       "1              0.045385       337.198618             -0.002020   \n",
       "2              0.122459       528.397690              0.013015   \n",
       "3             -0.067556       262.586578              0.182389   \n",
       "4             -0.041318       367.911661             -0.065170   \n",
       "\n",
       "   cell_centroid_z  cell_centroid_z_norm  cell_first_axis_length  \\\n",
       "0        99.909683              0.213683              267.127038   \n",
       "1       100.529134              0.091619              276.640338   \n",
       "2       114.846968              0.097995              202.939604   \n",
       "3       133.596876              0.100411              330.426213   \n",
       "4        83.981297              0.083976              307.129410   \n",
       "\n",
       "   cell_first_axis_length_norm            ...             struct_psize_mean  \\\n",
       "0                     1.341748            ...                       34105.0   \n",
       "1                     1.426584            ...                       14025.5   \n",
       "2                     1.587060            ...                       48642.0   \n",
       "3                     1.435130            ...                       51096.0   \n",
       "4                     1.230440            ...                       24726.5   \n",
       "\n",
       "   struct_psize_mean_roof  struct_psize_std  struct_psize_std_roof  \\\n",
       "0                 34105.0          0.000000               0.000000   \n",
       "1                 14025.5       4545.989496            4545.989496   \n",
       "2                 48642.0          0.000000               0.000000   \n",
       "3                 51096.0          0.000000               0.000000   \n",
       "4                 24726.5      29488.474100           29488.474100   \n",
       "\n",
       "   struct_seg_vol struct_seg_vol_roof  struct_surface_area  \\\n",
       "0         34105.0             34105.0            15.864813   \n",
       "1         28051.0             28051.0            12.981332   \n",
       "2         48642.0             48642.0            21.961819   \n",
       "3         51096.0             51096.0            22.376264   \n",
       "4         49453.0             49453.0            20.496774   \n",
       "\n",
       "   struct_surface_area_pixel  struct_surface_area_pixel_roof  \\\n",
       "0                    12594.0                         12594.0   \n",
       "1                    10305.0                         10305.0   \n",
       "2                    17434.0                         17434.0   \n",
       "3                    17763.0                         17763.0   \n",
       "4                    16271.0                         16271.0   \n",
       "\n",
       "   struct_surface_area_roof  \n",
       "0                 15.864813  \n",
       "1                 12.981332  \n",
       "2                 21.961819  \n",
       "3                 22.376264  \n",
       "4                 20.496774  \n",
       "\n",
       "[5 rows x 100 columns]"
      ]
     },
     "execution_count": 19,
     "metadata": {},
     "output_type": "execute_result"
    }
   ],
   "source": [
    "df_cell = ds_cell.ds\n",
    "df_cell.head()"
   ]
  },
  {
   "cell_type": "markdown",
   "metadata": {},
   "source": [
    "#### Volume"
   ]
  },
  {
   "cell_type": "code",
   "execution_count": 23,
   "metadata": {},
   "outputs": [
    {
     "name": "stdout",
     "output_type": "stream",
     "text": [
      "New:  431389 Old:  431389.0\n"
     ]
    }
   ],
   "source": [
    "print('New: ', tablef.dna_volume[cid],'Old: ',df_cell.dna_seg_vol[cid])"
   ]
  },
  {
   "cell_type": "markdown",
   "metadata": {},
   "source": [
    "#### DNA Heralick contrast"
   ]
  },
  {
   "cell_type": "code",
   "execution_count": 24,
   "metadata": {},
   "outputs": [
    {
     "name": "stdout",
     "output_type": "stream",
     "text": [
      "New:  14.550511507508123 Old:  8.971945862\n"
     ]
    }
   ],
   "source": [
    "# New and old Haralick features are different because they don't use the same values of distance\n",
    "print('New: ', tablef.dna_haralick_contrast[cid],'Old: ',df_cell.dna_Haralick_Contrast[cid])"
   ]
  },
  {
   "cell_type": "markdown",
   "metadata": {},
   "source": [
    "#### DNA 1st axis length"
   ]
  },
  {
   "cell_type": "code",
   "execution_count": 25,
   "metadata": {},
   "outputs": [
    {
     "name": "stdout",
     "output_type": "stream",
     "text": [
      "New:  109.33765815382043 Old:  109.33765819999999\n"
     ]
    }
   ],
   "source": [
    "print('New: ', tablef.dna_1st_axis_length[cid],'Old: ',df_cell.dna_first_axis_length[cid])"
   ]
  },
  {
   "cell_type": "code",
   "execution_count": null,
   "metadata": {
    "scrolled": true
   },
   "outputs": [],
   "source": []
  }
 ],
 "metadata": {
  "kernelspec": {
   "display_name": "Python 3",
   "language": "python",
   "name": "python3"
  },
  "language_info": {
   "codemirror_mode": {
    "name": "ipython",
    "version": 3
   },
   "file_extension": ".py",
   "mimetype": "text/x-python",
   "name": "python",
   "nbconvert_exporter": "python",
   "pygments_lexer": "ipython3",
   "version": "3.6.6"
  }
 },
 "nbformat": 4,
 "nbformat_minor": 2
}
